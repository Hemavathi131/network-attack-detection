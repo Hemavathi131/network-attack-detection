{
 "cells": [
  {
   "attachments": {},
   "cell_type": "markdown",
   "metadata": {},
   "source": [
    "# PacketPatrolAI - AI based Network Attack Detection\n",
    "\n",
    "Luca Di Bello (luca.dibello@student.supsi.ch) - SUPSI - 2021\n",
    "\n",
    "## Useful information\n",
    "\n",
    "The dataset used for this project is written in the NetFlow V9 format (format by Cisco, documentation available [here](https://www.cisco.com/en/US/technologies/tk648/tk362/technologies_white_paper09186a00800a3db9.html)). The dataset is composed by two files:\n",
    "\n",
    "* **train_set**: ~2 million flows, used for training the model\n",
    "* **test_set**: ~4 million flows, used for testing the model\n",
    "\n",
    "## Columns description\n",
    "\n",
    "* **FLOW_ID**: Unique identifier of the packet flow\n",
    "* **PROTOCOL_MAP**: Protocol used by the flow (udp, tcp, icmp, gre, skip, ipv6-icmp, ipv6)\n",
    "* **L4_SRC_PORT**: Layer 4 source port (0-65535)\n",
    "* **IPV4_SRC_ADDR**: IPv4 Source IP address (format: xxx.xxx.xxx.xxx)\n",
    "* **L4_DST_PORT**: Layer 4 destination port (0-65535)\n",
    "* **IPV4_DST_ADDR**: IPv4 Destination IP address (format: xxx.xxx.xxx.xxx)\n",
    "* \n",
    "* **ALERT**: (*only in test set*) The kind of attack that has been detected on the current flow. This are the possible values:\n",
    "  - **None**: No attack has been detected\n",
    "  - **Port scanning**: The flow is a port scanning attack \n",
    "  - **Denial of Service**: The flow is a DoS attack\n",
    "  - **Malware**: The flow is a malware attack\n",
    "\n",
    "\n",
    "\n"
   ]
  },
  {
   "attachments": {},
   "cell_type": "markdown",
   "metadata": {},
   "source": [
    "## 1. Loading the datasets"
   ]
  },
  {
   "cell_type": "code",
   "execution_count": 5,
   "metadata": {},
   "outputs": [],
   "source": [
    "# Load required libraries\n",
    "import pandas as pd\n",
    "import numpy as np\n",
    "import matplotlib.pyplot as plt\n",
    "import seaborn as sns\n",
    "%matplotlib inline"
   ]
  },
  {
   "cell_type": "code",
   "execution_count": 31,
   "metadata": {},
   "outputs": [],
   "source": [
    "# Loading the data from the train and test files\n",
    "train_df = pd.read_csv('data/train_net.csv')\n",
    "test_df = pd.read_csv('data/test_net.csv')"
   ]
  },
  {
   "attachments": {},
   "cell_type": "markdown",
   "metadata": {},
   "source": [
    "## 2. Data Preprocessing"
   ]
  },
  {
   "cell_type": "code",
   "execution_count": 14,
   "metadata": {},
   "outputs": [
    {
     "name": "stdout",
     "output_type": "stream",
     "text": [
      "==== Train data ====\n",
      "Dataframe shape:  (2077339, 32)\n",
      "Dataframe columns:  Index(['FLOW_ID', 'PROTOCOL_MAP', 'L4_SRC_PORT', 'IPV4_SRC_ADDR',\n",
      "       'L4_DST_PORT', 'IPV4_DST_ADDR', 'FIRST_SWITCHED',\n",
      "       'FLOW_DURATION_MILLISECONDS', 'LAST_SWITCHED', 'PROTOCOL', 'TCP_FLAGS',\n",
      "       'TCP_WIN_MAX_IN', 'TCP_WIN_MAX_OUT', 'TCP_WIN_MIN_IN',\n",
      "       'TCP_WIN_MIN_OUT', 'TCP_WIN_MSS_IN', 'TCP_WIN_SCALE_IN',\n",
      "       'TCP_WIN_SCALE_OUT', 'SRC_TOS', 'DST_TOS', 'TOTAL_FLOWS_EXP',\n",
      "       'MIN_IP_PKT_LEN', 'MAX_IP_PKT_LEN', 'TOTAL_PKTS_EXP', 'TOTAL_BYTES_EXP',\n",
      "       'IN_BYTES', 'IN_PKTS', 'OUT_BYTES', 'OUT_PKTS', 'ANALYSIS_TIMESTAMP',\n",
      "       'ANOMALY', 'ID'],\n",
      "      dtype='object')\n",
      "\n",
      "==== Test data ====\n",
      "Dataframe shape:  (4217625, 33)\n",
      "Dataframe columns:  Index(['FLOW_ID', 'PROTOCOL_MAP', 'L4_SRC_PORT', 'IPV4_SRC_ADDR',\n",
      "       'L4_DST_PORT', 'IPV4_DST_ADDR', 'FIRST_SWITCHED',\n",
      "       'FLOW_DURATION_MILLISECONDS', 'LAST_SWITCHED', 'PROTOCOL', 'TCP_FLAGS',\n",
      "       'TCP_WIN_MAX_IN', 'TCP_WIN_MAX_OUT', 'TCP_WIN_MIN_IN',\n",
      "       'TCP_WIN_MIN_OUT', 'TCP_WIN_MSS_IN', 'TCP_WIN_SCALE_IN',\n",
      "       'TCP_WIN_SCALE_OUT', 'SRC_TOS', 'DST_TOS', 'TOTAL_FLOWS_EXP',\n",
      "       'MIN_IP_PKT_LEN', 'MAX_IP_PKT_LEN', 'TOTAL_PKTS_EXP', 'TOTAL_BYTES_EXP',\n",
      "       'IN_BYTES', 'IN_PKTS', 'OUT_BYTES', 'OUT_PKTS', 'ANALYSIS_TIMESTAMP',\n",
      "       'ANOMALY', 'ALERT', 'ID'],\n",
      "      dtype='object')\n"
     ]
    }
   ],
   "source": [
    "# Show information about the data\n",
    "def printInfo(df):\n",
    "    print('Dataframe shape: ', df.shape)\n",
    "    print('Dataframe columns: ', df.columns)\n",
    "\n",
    "print('==== Train data ====')\n",
    "printInfo(train_df)\n",
    "print()\n",
    "print('==== Test data ====')\n",
    "printInfo(test_df)"
   ]
  },
  {
   "cell_type": "code",
   "execution_count": 32,
   "metadata": {},
   "outputs": [
    {
     "data": {
      "text/html": [
       "<div>\n",
       "<style scoped>\n",
       "    .dataframe tbody tr th:only-of-type {\n",
       "        vertical-align: middle;\n",
       "    }\n",
       "\n",
       "    .dataframe tbody tr th {\n",
       "        vertical-align: top;\n",
       "    }\n",
       "\n",
       "    .dataframe thead th {\n",
       "        text-align: right;\n",
       "    }\n",
       "</style>\n",
       "<table border=\"1\" class=\"dataframe\">\n",
       "  <thead>\n",
       "    <tr style=\"text-align: right;\">\n",
       "      <th></th>\n",
       "      <th>FLOW_ID</th>\n",
       "      <th>PROTOCOL_MAP</th>\n",
       "      <th>L4_SRC_PORT</th>\n",
       "      <th>IPV4_SRC_ADDR</th>\n",
       "      <th>L4_DST_PORT</th>\n",
       "      <th>IPV4_DST_ADDR</th>\n",
       "      <th>FIRST_SWITCHED</th>\n",
       "      <th>FLOW_DURATION_MILLISECONDS</th>\n",
       "      <th>LAST_SWITCHED</th>\n",
       "      <th>PROTOCOL</th>\n",
       "      <th>...</th>\n",
       "      <th>TOTAL_PKTS_EXP</th>\n",
       "      <th>TOTAL_BYTES_EXP</th>\n",
       "      <th>IN_BYTES</th>\n",
       "      <th>IN_PKTS</th>\n",
       "      <th>OUT_BYTES</th>\n",
       "      <th>OUT_PKTS</th>\n",
       "      <th>ANALYSIS_TIMESTAMP</th>\n",
       "      <th>ANOMALY</th>\n",
       "      <th>ALERT</th>\n",
       "      <th>ID</th>\n",
       "    </tr>\n",
       "  </thead>\n",
       "  <tbody>\n",
       "    <tr>\n",
       "      <th>0</th>\n",
       "      <td>372018590</td>\n",
       "      <td>udp</td>\n",
       "      <td>53950</td>\n",
       "      <td>10.114.232.40</td>\n",
       "      <td>53</td>\n",
       "      <td>10.114.226.5</td>\n",
       "      <td>1647760833</td>\n",
       "      <td>1</td>\n",
       "      <td>1647760833</td>\n",
       "      <td>17</td>\n",
       "      <td>...</td>\n",
       "      <td>0</td>\n",
       "      <td>0</td>\n",
       "      <td>165</td>\n",
       "      <td>2</td>\n",
       "      <td>275</td>\n",
       "      <td>2</td>\n",
       "      <td>1647760873</td>\n",
       "      <td>0.0</td>\n",
       "      <td>None</td>\n",
       "      <td>0</td>\n",
       "    </tr>\n",
       "    <tr>\n",
       "      <th>1</th>\n",
       "      <td>368604472</td>\n",
       "      <td>tcp</td>\n",
       "      <td>37914</td>\n",
       "      <td>10.114.241.166</td>\n",
       "      <td>38303</td>\n",
       "      <td>10.114.224.218</td>\n",
       "      <td>1647686725</td>\n",
       "      <td>1</td>\n",
       "      <td>1647686725</td>\n",
       "      <td>6</td>\n",
       "      <td>...</td>\n",
       "      <td>0</td>\n",
       "      <td>0</td>\n",
       "      <td>44</td>\n",
       "      <td>1</td>\n",
       "      <td>40</td>\n",
       "      <td>1</td>\n",
       "      <td>1647687338</td>\n",
       "      <td>0.0</td>\n",
       "      <td>Port Scanning</td>\n",
       "      <td>1</td>\n",
       "    </tr>\n",
       "    <tr>\n",
       "      <th>2</th>\n",
       "      <td>367513992</td>\n",
       "      <td>tcp</td>\n",
       "      <td>33216</td>\n",
       "      <td>10.114.241.166</td>\n",
       "      <td>18757</td>\n",
       "      <td>10.114.224.116</td>\n",
       "      <td>1647680044</td>\n",
       "      <td>0</td>\n",
       "      <td>1647680044</td>\n",
       "      <td>6</td>\n",
       "      <td>...</td>\n",
       "      <td>0</td>\n",
       "      <td>0</td>\n",
       "      <td>44</td>\n",
       "      <td>1</td>\n",
       "      <td>40</td>\n",
       "      <td>1</td>\n",
       "      <td>1647680115</td>\n",
       "      <td>1.0</td>\n",
       "      <td>Port Scanning</td>\n",
       "      <td>2</td>\n",
       "    </tr>\n",
       "    <tr>\n",
       "      <th>3</th>\n",
       "      <td>371997670</td>\n",
       "      <td>udp</td>\n",
       "      <td>48627</td>\n",
       "      <td>10.114.225.205</td>\n",
       "      <td>53</td>\n",
       "      <td>10.114.226.5</td>\n",
       "      <td>1647760172</td>\n",
       "      <td>0</td>\n",
       "      <td>1647760172</td>\n",
       "      <td>17</td>\n",
       "      <td>...</td>\n",
       "      <td>0</td>\n",
       "      <td>0</td>\n",
       "      <td>128</td>\n",
       "      <td>2</td>\n",
       "      <td>160</td>\n",
       "      <td>2</td>\n",
       "      <td>1647760207</td>\n",
       "      <td>0.0</td>\n",
       "      <td>None</td>\n",
       "      <td>3</td>\n",
       "    </tr>\n",
       "    <tr>\n",
       "      <th>4</th>\n",
       "      <td>374311119</td>\n",
       "      <td>udp</td>\n",
       "      <td>35939</td>\n",
       "      <td>10.114.225.205</td>\n",
       "      <td>53</td>\n",
       "      <td>10.114.226.5</td>\n",
       "      <td>1647780916</td>\n",
       "      <td>0</td>\n",
       "      <td>1647780916</td>\n",
       "      <td>17</td>\n",
       "      <td>...</td>\n",
       "      <td>0</td>\n",
       "      <td>0</td>\n",
       "      <td>172</td>\n",
       "      <td>2</td>\n",
       "      <td>300</td>\n",
       "      <td>2</td>\n",
       "      <td>1647780984</td>\n",
       "      <td>0.0</td>\n",
       "      <td>None</td>\n",
       "      <td>4</td>\n",
       "    </tr>\n",
       "  </tbody>\n",
       "</table>\n",
       "<p>5 rows × 33 columns</p>\n",
       "</div>"
      ],
      "text/plain": [
       "     FLOW_ID PROTOCOL_MAP  L4_SRC_PORT   IPV4_SRC_ADDR  L4_DST_PORT  \\\n",
       "0  372018590          udp        53950   10.114.232.40           53   \n",
       "1  368604472          tcp        37914  10.114.241.166        38303   \n",
       "2  367513992          tcp        33216  10.114.241.166        18757   \n",
       "3  371997670          udp        48627  10.114.225.205           53   \n",
       "4  374311119          udp        35939  10.114.225.205           53   \n",
       "\n",
       "    IPV4_DST_ADDR  FIRST_SWITCHED  FLOW_DURATION_MILLISECONDS  LAST_SWITCHED  \\\n",
       "0    10.114.226.5      1647760833                           1     1647760833   \n",
       "1  10.114.224.218      1647686725                           1     1647686725   \n",
       "2  10.114.224.116      1647680044                           0     1647680044   \n",
       "3    10.114.226.5      1647760172                           0     1647760172   \n",
       "4    10.114.226.5      1647780916                           0     1647780916   \n",
       "\n",
       "   PROTOCOL  ...  TOTAL_PKTS_EXP  TOTAL_BYTES_EXP  IN_BYTES  IN_PKTS  \\\n",
       "0        17  ...               0                0       165        2   \n",
       "1         6  ...               0                0        44        1   \n",
       "2         6  ...               0                0        44        1   \n",
       "3        17  ...               0                0       128        2   \n",
       "4        17  ...               0                0       172        2   \n",
       "\n",
       "   OUT_BYTES  OUT_PKTS  ANALYSIS_TIMESTAMP  ANOMALY          ALERT  ID  \n",
       "0        275         2          1647760873      0.0           None   0  \n",
       "1         40         1          1647687338      0.0  Port Scanning   1  \n",
       "2         40         1          1647680115      1.0  Port Scanning   2  \n",
       "3        160         2          1647760207      0.0           None   3  \n",
       "4        300         2          1647780984      0.0           None   4  \n",
       "\n",
       "[5 rows x 33 columns]"
      ]
     },
     "execution_count": 32,
     "metadata": {},
     "output_type": "execute_result"
    }
   ],
   "source": [
    "train_df.head()"
   ]
  },
  {
   "attachments": {},
   "cell_type": "markdown",
   "metadata": {},
   "source": [
    "## 3. Data Analysis"
   ]
  },
  {
   "attachments": {},
   "cell_type": "markdown",
   "metadata": {},
   "source": [
    "### 3.1. Observing the distribution of the target variable"
   ]
  },
  {
   "cell_type": "code",
   "execution_count": 38,
   "metadata": {},
   "outputs": [
    {
     "data": {
      "text/plain": [
       "<AxesSubplot: xlabel='ALERT', ylabel='count'>"
      ]
     },
     "execution_count": 38,
     "metadata": {},
     "output_type": "execute_result"
    },
    {
     "data": {
      "image/png": "[encoded data removed]",
      "text/plain": [
       "<Figure size 640x480 with 1 Axes>"
      ]
     },
     "metadata": {},
     "output_type": "display_data"
    }
   ],
   "source": [
    "# Show the distribution of the target variable\n",
    "sns.countplot(x='ALERT', data=train_df)"
   ]
  },
  {
   "cell_type": "code",
   "execution_count": 42,
   "metadata": {},
   "outputs": [
    {
     "ename": "ValueError",
     "evalue": "Could not interpret input 'DIRECTION'",
     "output_type": "error",
     "traceback": [
      "\u001b[0;31m---------------------------------------------------------------------------\u001b[0m",
      "\u001b[0;31mValueError\u001b[0m                                Traceback (most recent call last)",
      "Cell \u001b[0;32mIn[42], line 5\u001b[0m\n\u001b[1;32m      2\u001b[0m fig, ax \u001b[39m=\u001b[39m plt\u001b[39m.\u001b[39msubplots(\u001b[39m1\u001b[39m, \u001b[39m2\u001b[39m, figsize\u001b[39m=\u001b[39m(\u001b[39m18\u001b[39m,\u001b[39m4\u001b[39m))\n\u001b[1;32m      4\u001b[0m sns\u001b[39m.\u001b[39mcountplot(x\u001b[39m=\u001b[39m\u001b[39m'\u001b[39m\u001b[39mPROTOCOL_MAP\u001b[39m\u001b[39m'\u001b[39m, data\u001b[39m=\u001b[39mtrain_df, ax\u001b[39m=\u001b[39max[\u001b[39m0\u001b[39m])\n\u001b[0;32m----> 5\u001b[0m sns\u001b[39m.\u001b[39;49mcountplot(x\u001b[39m=\u001b[39;49m\u001b[39m'\u001b[39;49m\u001b[39mDIRECTION\u001b[39;49m\u001b[39m'\u001b[39;49m, data\u001b[39m=\u001b[39;49mtrain_df, ax\u001b[39m=\u001b[39;49max[\u001b[39m1\u001b[39;49m])\n\u001b[1;32m      6\u001b[0m sns\u001b[39m.\u001b[39mcountplot(x\u001b[39m=\u001b[39m\u001b[39m'\u001b[39m\u001b[39mPROTOCOL_MAP\u001b[39m\u001b[39m'\u001b[39m, data\u001b[39m=\u001b[39mtrain_df)\n",
      "File \u001b[0;32m/usr/local/Caskroom/miniconda/base/envs/machinelearning/lib/python3.10/site-packages/seaborn/categorical.py:2943\u001b[0m, in \u001b[0;36mcountplot\u001b[0;34m(data, x, y, hue, order, hue_order, orient, color, palette, saturation, width, dodge, ax, **kwargs)\u001b[0m\n\u001b[1;32m   2940\u001b[0m \u001b[39melif\u001b[39;00m x \u001b[39mis\u001b[39;00m \u001b[39mnot\u001b[39;00m \u001b[39mNone\u001b[39;00m \u001b[39mand\u001b[39;00m y \u001b[39mis\u001b[39;00m \u001b[39mnot\u001b[39;00m \u001b[39mNone\u001b[39;00m:\n\u001b[1;32m   2941\u001b[0m     \u001b[39mraise\u001b[39;00m \u001b[39mValueError\u001b[39;00m(\u001b[39m\"\u001b[39m\u001b[39mCannot pass values for both `x` and `y`\u001b[39m\u001b[39m\"\u001b[39m)\n\u001b[0;32m-> 2943\u001b[0m plotter \u001b[39m=\u001b[39m _CountPlotter(\n\u001b[1;32m   2944\u001b[0m     x, y, hue, data, order, hue_order,\n\u001b[1;32m   2945\u001b[0m     estimator, errorbar, n_boot, units, seed,\n\u001b[1;32m   2946\u001b[0m     orient, color, palette, saturation,\n\u001b[1;32m   2947\u001b[0m     width, errcolor, errwidth, capsize, dodge\n\u001b[1;32m   2948\u001b[0m )\n\u001b[1;32m   2950\u001b[0m plotter\u001b[39m.\u001b[39mvalue_label \u001b[39m=\u001b[39m \u001b[39m\"\u001b[39m\u001b[39mcount\u001b[39m\u001b[39m\"\u001b[39m\n\u001b[1;32m   2952\u001b[0m \u001b[39mif\u001b[39;00m ax \u001b[39mis\u001b[39;00m \u001b[39mNone\u001b[39;00m:\n",
      "File \u001b[0;32m/usr/local/Caskroom/miniconda/base/envs/machinelearning/lib/python3.10/site-packages/seaborn/categorical.py:1530\u001b[0m, in \u001b[0;36m_BarPlotter.__init__\u001b[0;34m(self, x, y, hue, data, order, hue_order, estimator, errorbar, n_boot, units, seed, orient, color, palette, saturation, width, errcolor, errwidth, capsize, dodge)\u001b[0m\n\u001b[1;32m   1525\u001b[0m \u001b[39mdef\u001b[39;00m \u001b[39m__init__\u001b[39m(\u001b[39mself\u001b[39m, x, y, hue, data, order, hue_order,\n\u001b[1;32m   1526\u001b[0m              estimator, errorbar, n_boot, units, seed,\n\u001b[1;32m   1527\u001b[0m              orient, color, palette, saturation, width,\n\u001b[1;32m   1528\u001b[0m              errcolor, errwidth, capsize, dodge):\n\u001b[1;32m   1529\u001b[0m     \u001b[39m\"\"\"Initialize the plotter.\"\"\"\u001b[39;00m\n\u001b[0;32m-> 1530\u001b[0m     \u001b[39mself\u001b[39;49m\u001b[39m.\u001b[39;49mestablish_variables(x, y, hue, data, orient,\n\u001b[1;32m   1531\u001b[0m                              order, hue_order, units)\n\u001b[1;32m   1532\u001b[0m     \u001b[39mself\u001b[39m\u001b[39m.\u001b[39mestablish_colors(color, palette, saturation)\n\u001b[1;32m   1533\u001b[0m     \u001b[39mself\u001b[39m\u001b[39m.\u001b[39mestimate_statistic(estimator, errorbar, n_boot, seed)\n",
      "File \u001b[0;32m/usr/local/Caskroom/miniconda/base/envs/machinelearning/lib/python3.10/site-packages/seaborn/categorical.py:541\u001b[0m, in \u001b[0;36m_CategoricalPlotter.establish_variables\u001b[0;34m(self, x, y, hue, data, orient, order, hue_order, units)\u001b[0m\n\u001b[1;32m    539\u001b[0m     \u001b[39mif\u001b[39;00m \u001b[39misinstance\u001b[39m(var, \u001b[39mstr\u001b[39m):\n\u001b[1;32m    540\u001b[0m         err \u001b[39m=\u001b[39m \u001b[39mf\u001b[39m\u001b[39m\"\u001b[39m\u001b[39mCould not interpret input \u001b[39m\u001b[39m'\u001b[39m\u001b[39m{\u001b[39;00mvar\u001b[39m}\u001b[39;00m\u001b[39m'\u001b[39m\u001b[39m\"\u001b[39m\n\u001b[0;32m--> 541\u001b[0m         \u001b[39mraise\u001b[39;00m \u001b[39mValueError\u001b[39;00m(err)\n\u001b[1;32m    543\u001b[0m \u001b[39m# Figure out the plotting orientation\u001b[39;00m\n\u001b[1;32m    544\u001b[0m orient \u001b[39m=\u001b[39m infer_orient(\n\u001b[1;32m    545\u001b[0m     x, y, orient, require_numeric\u001b[39m=\u001b[39m\u001b[39mself\u001b[39m\u001b[39m.\u001b[39mrequire_numeric\n\u001b[1;32m    546\u001b[0m )\n",
      "\u001b[0;31mValueError\u001b[0m: Could not interpret input 'DIRECTION'"
     ]
    },
    {
     "data": {
      "image/png": "[encoded data removed]",
      "text/plain": [
       "<Figure size 1800x400 with 2 Axes>"
      ]
     },
     "metadata": {},
     "output_type": "display_data"
    }
   ],
   "source": [
    "# Distribution of the important features in the same plot\n",
    "fig, ax = plt.subplots(1, 2, figsize=(18,4))\n",
    "\n",
    "sns.countplot(x='PROTOCOL_MAP', data=train_df, ax=ax[0])\n",
    "sns.countplot(x='DIRECTION', data=train_df, ax=ax[1])\n",
    "sns.countplot(x='PROTOCOL_MAP', data=train_df)\n"
   ]
  }
 ],
 "metadata": {
  "kernelspec": {
   "display_name": "machinelearning",
   "language": "python",
   "name": "python3"
  },
  "language_info": {
   "codemirror_mode": {
    "name": "ipython",
    "version": 3
   },
   "file_extension": ".py",
   "mimetype": "text/x-python",
   "name": "python",
   "nbconvert_exporter": "python",
   "pygments_lexer": "ipython3",
   "version": "3.10.9"
  },
  "orig_nbformat": 4
 },
 "nbformat": 4,
 "nbformat_minor": 2
}
