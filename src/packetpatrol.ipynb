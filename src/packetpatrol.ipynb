{
 "cells": [
  {
   "attachments": {},
   "cell_type": "markdown",
   "metadata": {},
   "source": [
    "# PacketPatrolAI - AI based Network Attack Detection\n",
    "\n",
    "Luca Di Bello (luca.dibello@student.supsi.ch) - SUPSI - 2021\n",
    "\n",
    "## Dataset description\n",
    "\n",
    "The dataset used for this project is written in the NetFlow V9 format (format by Cisco, documentation available [here](https://www.cisco.com/en/US/technologies/tk648/tk362/technologies_white_paper09186a00800a3db9.html)). The dataset is composed by two files:\n",
    "\n",
    "* **train_set**: ~2 million flows, used for training the model\n",
    "* **test_set**: ~4 million flows, used for testing the model\n",
    "\n",
    "### Columns\n",
    "* **FLOW_ID**: A unique identifier for the flow\n",
    "* **PROTOCOL_MAP**: A string representing the protocol used in the flow, possible values include \"ICMP\", \"TCP\", \"UDP\", \"IGMP\", \"GRE\", \"ESP\", \"AH\", \"EIGRP\", \"OSPF\", \"PIM\", \"IPV6-ICMP\", \"IPV6-IP\", \"IPV6-ROUTE\", \"IPV6-FRAG\", \"IPV6-NONXT\", \"IPV6-OPTS\", and others.\n",
    "* **L4_SRC_PORT**: The source port number in the flow, possible values range from 0 to 65535.\n",
    "* **IPV4_SRC_ADDR**: The source IPv4 address in the flow, represented as a string in dotted decimal notation (e.g., \"192.168.0.1\").\n",
    "* **L4_DST_PORT**: The destination port number in the flow, possible values range from 0 to 65535.\n",
    "* **IPV4_DST_ADDR**: The destination IPv4 address in the flow, represented as a string in dotted decimal notation (e.g., \"192.168.0.2\").\n",
    "* **FIRST_SWITCHED**: The time at which the flow started, measured in seconds since the epoch (January 1, 1970).\n",
    "* **FLOW_DURATION_MILLISECONDS**: The duration of the flow in milliseconds.\n",
    "* **LAST_SWITCHED**: The time at which the flow ended, measured in seconds since the epoch (January 1, 1970).\n",
    "* **PROTOCOL**: The protocol used in the flow, possible values include 1 (ICMP), 6 (TCP), 17 (UDP), and others.\n",
    "* **TCP_FLAGS**: The TCP flags set in the flow, represented as a binary string (e.g., \"100101\").\n",
    "* **TCP_WIN_MAX_IN**: The maximum advertised window size (in bytes) for incoming traffic.\n",
    "* **TCP_WIN_MAX_OUT**: The maximum advertised window size (in bytes) for outgoing traffic.\n",
    "* **TCP_WIN_MIN_IN**: The minimum advertised window size (in bytes) for incoming traffic.\n",
    "* **TCP_WIN_MIN_OUT**: The minimum advertised window size (in bytes) for outgoing traffic.\n",
    "* **TCP_WIN_MSS_IN**: The maximum segment size (in bytes) for incoming traffic.\n",
    "* **TCP_WIN_SCALE_IN**: The window scale factor for incoming traffic.\n",
    "* **TCP_WIN_SCALE_OUT**: The window scale factor for outgoing traffic.\n",
    "* **SRC_TOS**: The Type of Service (ToS) value for the source IP address.\n",
    "* **DST_TOS**: The Type of Service (ToS) value for the destination IP address.\n",
    "* **TOTAL_FLOWS_EXP**: The total number of expected flows.\n",
    "* **MIN_IP_PKT_LEN**: The minimum length (in bytes) of IP packets in the flow.\n",
    "* **MAX_IP_PKT_LEN**: The maximum length (in bytes) of IP packets in the flow.\n",
    "* **TOTAL_PKTS_EXP**: The total number of expected packets in the flow.\n",
    "* **TOTAL_BYTES_EXP**: The total number of expected bytes in the flow.\n",
    "* **IN_BYTES**: The number of bytes received in the flow.\n",
    "* **IN_PKTS**: The number of packets received in the flow.\n",
    "* **OUT_BYTES**: The number of bytes sent in the flow.\n",
    "* **OUT_PKTS**: The number of packets sent in the flow.\n",
    "* **ANALYSIS_TIMESTAMP**: The time at which the flow was analyzed, measured in seconds since the epoch (January 1, 1970).\n",
    "* **ANOMALY**: A binary flag indicating whether the flow contains an anomaly (1 = true, 0 = false).\n",
    "* **ALERT**: (<u>only available in training set</u>) The kind of attack that has been detected on the current flow. This are the possible values:\n",
    "  - **None**: No attack has been detected\n",
    "  - **Port scanning**: The flow is a port scanning attack \n",
    "  - **Denial of Service**: The flow is a DoS attack\n",
    "  - **Malware**: The flow is a malware attack\n",
    "* **ID**: A unique identifier for the flow."
   ]
  },
  {
   "attachments": {},
   "cell_type": "markdown",
   "metadata": {},
   "source": [
    "## 1. Loading the datasets"
   ]
  },
  {
   "cell_type": "code",
   "execution_count": 2,
   "metadata": {},
   "outputs": [],
   "source": [
    "# Load data processing libraries\n",
    "import pandas as pd\n",
    "import numpy as np\n",
    "import matplotlib.pyplot as plt\n",
    "import seaborn as sns\n",
    "import math\n",
    "%matplotlib inline"
   ]
  },
  {
   "cell_type": "code",
   "execution_count": 3,
   "metadata": {},
   "outputs": [],
   "source": [
    "# Load machine learning libraries\n",
    "from sklearn.linear_model import LinearRegression \n",
    "from sklearn.ensemble import RandomForestRegressor\n",
    "from sklearn.metrics import mean_squared_error\n",
    "from sklearn.model_selection import train_test_split"
   ]
  },
  {
   "cell_type": "code",
   "execution_count": 4,
   "metadata": {},
   "outputs": [],
   "source": [
    "# Loading the data from the train and test files\n",
    "train_df = pd.read_csv('data/train_net.csv')\n",
    "test_df = pd.read_csv('data/test_net.csv')"
   ]
  },
  {
   "attachments": {},
   "cell_type": "markdown",
   "metadata": {},
   "source": [
    "## 2. Data Preprocessing"
   ]
  },
  {
   "cell_type": "code",
   "execution_count": 5,
   "metadata": {},
   "outputs": [
    {
     "name": "stdout",
     "output_type": "stream",
     "text": [
      "==== Train data ====\n",
      "Dataframe shape:  (4217625, 33)\n",
      "Dataframe columns:  Index(['FLOW_ID', 'PROTOCOL_MAP', 'L4_SRC_PORT', 'IPV4_SRC_ADDR',\n",
      "       'L4_DST_PORT', 'IPV4_DST_ADDR', 'FIRST_SWITCHED',\n",
      "       'FLOW_DURATION_MILLISECONDS', 'LAST_SWITCHED', 'PROTOCOL', 'TCP_FLAGS',\n",
      "       'TCP_WIN_MAX_IN', 'TCP_WIN_MAX_OUT', 'TCP_WIN_MIN_IN',\n",
      "       'TCP_WIN_MIN_OUT', 'TCP_WIN_MSS_IN', 'TCP_WIN_SCALE_IN',\n",
      "       'TCP_WIN_SCALE_OUT', 'SRC_TOS', 'DST_TOS', 'TOTAL_FLOWS_EXP',\n",
      "       'MIN_IP_PKT_LEN', 'MAX_IP_PKT_LEN', 'TOTAL_PKTS_EXP', 'TOTAL_BYTES_EXP',\n",
      "       'IN_BYTES', 'IN_PKTS', 'OUT_BYTES', 'OUT_PKTS', 'ANALYSIS_TIMESTAMP',\n",
      "       'ANOMALY', 'ALERT', 'ID'],\n",
      "      dtype='object')\n",
      "\n",
      "==== Test data ====\n",
      "Dataframe shape:  (2077339, 32)\n",
      "Dataframe columns:  Index(['FLOW_ID', 'PROTOCOL_MAP', 'L4_SRC_PORT', 'IPV4_SRC_ADDR',\n",
      "       'L4_DST_PORT', 'IPV4_DST_ADDR', 'FIRST_SWITCHED',\n",
      "       'FLOW_DURATION_MILLISECONDS', 'LAST_SWITCHED', 'PROTOCOL', 'TCP_FLAGS',\n",
      "       'TCP_WIN_MAX_IN', 'TCP_WIN_MAX_OUT', 'TCP_WIN_MIN_IN',\n",
      "       'TCP_WIN_MIN_OUT', 'TCP_WIN_MSS_IN', 'TCP_WIN_SCALE_IN',\n",
      "       'TCP_WIN_SCALE_OUT', 'SRC_TOS', 'DST_TOS', 'TOTAL_FLOWS_EXP',\n",
      "       'MIN_IP_PKT_LEN', 'MAX_IP_PKT_LEN', 'TOTAL_PKTS_EXP', 'TOTAL_BYTES_EXP',\n",
      "       'IN_BYTES', 'IN_PKTS', 'OUT_BYTES', 'OUT_PKTS', 'ANALYSIS_TIMESTAMP',\n",
      "       'ANOMALY', 'ID'],\n",
      "      dtype='object')\n"
     ]
    }
   ],
   "source": [
    "# Show information about the data\n",
    "def printInfo(df):\n",
    "    print('Dataframe shape: ', df.shape)\n",
    "    print('Dataframe columns: ', df.columns)\n",
    "\n",
    "print('==== Train data ====')\n",
    "printInfo(train_df)\n",
    "print()\n",
    "print('==== Test data ====')\n",
    "printInfo(test_df)"
   ]
  },
  {
   "cell_type": "code",
   "execution_count": 6,
   "metadata": {},
   "outputs": [
    {
     "data": {
      "text/html": [
       "<div>\n",
       "<style scoped>\n",
       "    .dataframe tbody tr th:only-of-type {\n",
       "        vertical-align: middle;\n",
       "    }\n",
       "\n",
       "    .dataframe tbody tr th {\n",
       "        vertical-align: top;\n",
       "    }\n",
       "\n",
       "    .dataframe thead th {\n",
       "        text-align: right;\n",
       "    }\n",
       "</style>\n",
       "<table border=\"1\" class=\"dataframe\">\n",
       "  <thead>\n",
       "    <tr style=\"text-align: right;\">\n",
       "      <th></th>\n",
       "      <th>FLOW_ID</th>\n",
       "      <th>PROTOCOL_MAP</th>\n",
       "      <th>L4_SRC_PORT</th>\n",
       "      <th>IPV4_SRC_ADDR</th>\n",
       "      <th>L4_DST_PORT</th>\n",
       "      <th>IPV4_DST_ADDR</th>\n",
       "      <th>FIRST_SWITCHED</th>\n",
       "      <th>FLOW_DURATION_MILLISECONDS</th>\n",
       "      <th>LAST_SWITCHED</th>\n",
       "      <th>PROTOCOL</th>\n",
       "      <th>...</th>\n",
       "      <th>TOTAL_PKTS_EXP</th>\n",
       "      <th>TOTAL_BYTES_EXP</th>\n",
       "      <th>IN_BYTES</th>\n",
       "      <th>IN_PKTS</th>\n",
       "      <th>OUT_BYTES</th>\n",
       "      <th>OUT_PKTS</th>\n",
       "      <th>ANALYSIS_TIMESTAMP</th>\n",
       "      <th>ANOMALY</th>\n",
       "      <th>ALERT</th>\n",
       "      <th>ID</th>\n",
       "    </tr>\n",
       "  </thead>\n",
       "  <tbody>\n",
       "    <tr>\n",
       "      <th>0</th>\n",
       "      <td>372018590</td>\n",
       "      <td>udp</td>\n",
       "      <td>53950</td>\n",
       "      <td>10.114.232.40</td>\n",
       "      <td>53</td>\n",
       "      <td>10.114.226.5</td>\n",
       "      <td>1647760833</td>\n",
       "      <td>1</td>\n",
       "      <td>1647760833</td>\n",
       "      <td>17</td>\n",
       "      <td>...</td>\n",
       "      <td>0</td>\n",
       "      <td>0</td>\n",
       "      <td>165</td>\n",
       "      <td>2</td>\n",
       "      <td>275</td>\n",
       "      <td>2</td>\n",
       "      <td>1647760873</td>\n",
       "      <td>0.0</td>\n",
       "      <td>None</td>\n",
       "      <td>0</td>\n",
       "    </tr>\n",
       "    <tr>\n",
       "      <th>1</th>\n",
       "      <td>368604472</td>\n",
       "      <td>tcp</td>\n",
       "      <td>37914</td>\n",
       "      <td>10.114.241.166</td>\n",
       "      <td>38303</td>\n",
       "      <td>10.114.224.218</td>\n",
       "      <td>1647686725</td>\n",
       "      <td>1</td>\n",
       "      <td>1647686725</td>\n",
       "      <td>6</td>\n",
       "      <td>...</td>\n",
       "      <td>0</td>\n",
       "      <td>0</td>\n",
       "      <td>44</td>\n",
       "      <td>1</td>\n",
       "      <td>40</td>\n",
       "      <td>1</td>\n",
       "      <td>1647687338</td>\n",
       "      <td>0.0</td>\n",
       "      <td>Port Scanning</td>\n",
       "      <td>1</td>\n",
       "    </tr>\n",
       "    <tr>\n",
       "      <th>2</th>\n",
       "      <td>367513992</td>\n",
       "      <td>tcp</td>\n",
       "      <td>33216</td>\n",
       "      <td>10.114.241.166</td>\n",
       "      <td>18757</td>\n",
       "      <td>10.114.224.116</td>\n",
       "      <td>1647680044</td>\n",
       "      <td>0</td>\n",
       "      <td>1647680044</td>\n",
       "      <td>6</td>\n",
       "      <td>...</td>\n",
       "      <td>0</td>\n",
       "      <td>0</td>\n",
       "      <td>44</td>\n",
       "      <td>1</td>\n",
       "      <td>40</td>\n",
       "      <td>1</td>\n",
       "      <td>1647680115</td>\n",
       "      <td>1.0</td>\n",
       "      <td>Port Scanning</td>\n",
       "      <td>2</td>\n",
       "    </tr>\n",
       "    <tr>\n",
       "      <th>3</th>\n",
       "      <td>371997670</td>\n",
       "      <td>udp</td>\n",
       "      <td>48627</td>\n",
       "      <td>10.114.225.205</td>\n",
       "      <td>53</td>\n",
       "      <td>10.114.226.5</td>\n",
       "      <td>1647760172</td>\n",
       "      <td>0</td>\n",
       "      <td>1647760172</td>\n",
       "      <td>17</td>\n",
       "      <td>...</td>\n",
       "      <td>0</td>\n",
       "      <td>0</td>\n",
       "      <td>128</td>\n",
       "      <td>2</td>\n",
       "      <td>160</td>\n",
       "      <td>2</td>\n",
       "      <td>1647760207</td>\n",
       "      <td>0.0</td>\n",
       "      <td>None</td>\n",
       "      <td>3</td>\n",
       "    </tr>\n",
       "    <tr>\n",
       "      <th>4</th>\n",
       "      <td>374311119</td>\n",
       "      <td>udp</td>\n",
       "      <td>35939</td>\n",
       "      <td>10.114.225.205</td>\n",
       "      <td>53</td>\n",
       "      <td>10.114.226.5</td>\n",
       "      <td>1647780916</td>\n",
       "      <td>0</td>\n",
       "      <td>1647780916</td>\n",
       "      <td>17</td>\n",
       "      <td>...</td>\n",
       "      <td>0</td>\n",
       "      <td>0</td>\n",
       "      <td>172</td>\n",
       "      <td>2</td>\n",
       "      <td>300</td>\n",
       "      <td>2</td>\n",
       "      <td>1647780984</td>\n",
       "      <td>0.0</td>\n",
       "      <td>None</td>\n",
       "      <td>4</td>\n",
       "    </tr>\n",
       "  </tbody>\n",
       "</table>\n",
       "<p>5 rows × 33 columns</p>\n",
       "</div>"
      ],
      "text/plain": [
       "     FLOW_ID PROTOCOL_MAP  L4_SRC_PORT   IPV4_SRC_ADDR  L4_DST_PORT  \\\n",
       "0  372018590          udp        53950   10.114.232.40           53   \n",
       "1  368604472          tcp        37914  10.114.241.166        38303   \n",
       "2  367513992          tcp        33216  10.114.241.166        18757   \n",
       "3  371997670          udp        48627  10.114.225.205           53   \n",
       "4  374311119          udp        35939  10.114.225.205           53   \n",
       "\n",
       "    IPV4_DST_ADDR  FIRST_SWITCHED  FLOW_DURATION_MILLISECONDS  LAST_SWITCHED  \\\n",
       "0    10.114.226.5      1647760833                           1     1647760833   \n",
       "1  10.114.224.218      1647686725                           1     1647686725   \n",
       "2  10.114.224.116      1647680044                           0     1647680044   \n",
       "3    10.114.226.5      1647760172                           0     1647760172   \n",
       "4    10.114.226.5      1647780916                           0     1647780916   \n",
       "\n",
       "   PROTOCOL  ...  TOTAL_PKTS_EXP  TOTAL_BYTES_EXP  IN_BYTES  IN_PKTS  \\\n",
       "0        17  ...               0                0       165        2   \n",
       "1         6  ...               0                0        44        1   \n",
       "2         6  ...               0                0        44        1   \n",
       "3        17  ...               0                0       128        2   \n",
       "4        17  ...               0                0       172        2   \n",
       "\n",
       "   OUT_BYTES  OUT_PKTS  ANALYSIS_TIMESTAMP  ANOMALY          ALERT  ID  \n",
       "0        275         2          1647760873      0.0           None   0  \n",
       "1         40         1          1647687338      0.0  Port Scanning   1  \n",
       "2         40         1          1647680115      1.0  Port Scanning   2  \n",
       "3        160         2          1647760207      0.0           None   3  \n",
       "4        300         2          1647780984      0.0           None   4  \n",
       "\n",
       "[5 rows x 33 columns]"
      ]
     },
     "execution_count": 6,
     "metadata": {},
     "output_type": "execute_result"
    }
   ],
   "source": [
    "train_df.head()"
   ]
  },
  {
   "attachments": {},
   "cell_type": "markdown",
   "metadata": {},
   "source": [
    "## 3. Data Analysis"
   ]
  },
  {
   "attachments": {},
   "cell_type": "markdown",
   "metadata": {},
   "source": [
    "### 3.1. Observing the distribution of the target variable"
   ]
  },
  {
   "cell_type": "code",
   "execution_count": 7,
   "metadata": {},
   "outputs": [
    {
     "data": {
      "text/plain": [
       "<Axes: xlabel='ALERT', ylabel='count'>"
      ]
     },
     "execution_count": 7,
     "metadata": {},
     "output_type": "execute_result"
    },
    {
     "data": {
      "image/png": "[encoded data removed]",
      "text/plain": [
       "<Figure size 640x480 with 1 Axes>"
      ]
     },
     "metadata": {},
     "output_type": "display_data"
    }
   ],
   "source": [
    "# Show the distribution of the target variable\n",
    "sns.countplot(x='ALERT', data=train_df)"
   ]
  },
  {
   "cell_type": "code",
   "execution_count": 13,
   "metadata": {},
   "outputs": [
    {
     "data": {
      "text/plain": [
       "tcp          2099470\n",
       "udp          1792273\n",
       "icmp          324539\n",
       "gre             1164\n",
       "ipv6-icmp        156\n",
       "skip              22\n",
       "ipv6               1\n",
       "Name: PROTOCOL_MAP, dtype: int64"
      ]
     },
     "execution_count": 13,
     "metadata": {},
     "output_type": "execute_result"
    }
   ],
   "source": [
    "# Count the number of unique protocol_maps\n",
    "train_df['PROTOCOL_MAP'].value_counts()"
   ]
  },
  {
   "cell_type": "code",
   "execution_count": 27,
   "metadata": {},
   "outputs": [
    {
     "data": {
      "text/plain": [
       "<Axes: xlabel='L4_SRC_PORT'>"
      ]
     },
     "execution_count": 27,
     "metadata": {},
     "output_type": "execute_result"
    },
    {
     "data": {
      "image/png": "[encoded data removed]",
      "text/plain": [
       "<Figure size 2000x500 with 3 Axes>"
      ]
     },
     "metadata": {},
     "output_type": "display_data"
    }
   ],
   "source": [
    "fig, axs = plt.subplots(1, 3, figsize=(20, 5))\n",
    "\n",
    "# seaborn countplots\n",
    "sns.countplot(x='ANOMALY', data=train_df, ax=axs[0])\n",
    "\n",
    "# Seaborn countplot for the 'PROTOCOL_MAP' column, with enough space for the labels\n",
    "sns.countplot(x='PROTOCOL_MAP', data=train_df, ax=axs[1])\n",
    "\n",
    "# Boxplot for L4_SRC_PORT to undestand the distribution of the data\n",
    "sns.boxplot(\n",
    "    x='L4_SRC_PORT', data=train_df, ax=axs[2],\n",
    "    notch=True, showcaps=True,\n",
    "    flierprops={\"marker\": \"x\"}, # Change the outlier marker\n",
    "    showmeans=True, # Show the mean\n",
    "    boxprops={\"facecolor\": (.4, .6, .8, .5)},\n",
    "  )"
   ]
  },
  {
   "attachments": {},
   "cell_type": "markdown",
   "metadata": {},
   "source": [
    "### 3.2 Unique hosts in dataset\n",
    "\n",
    "Knowing the amount of unique hosts in the dataset is important to understand the size of the dataset since I expect that a bigger dataset will be more difficult to train properly."
   ]
  },
  {
   "cell_type": "code",
   "execution_count": 28,
   "metadata": {},
   "outputs": [
    {
     "name": "stdout",
     "output_type": "stream",
     "text": [
      "Number of unique hosts in the train data:  79085\n",
      "Number of unique hosts in the test data: 62914 (~20% smaller)\n"
     ]
    }
   ],
   "source": [
    "# Find unique hosts (IP addresses) in the train and test data\n",
    "train_src_hosts = train_df['IPV4_SRC_ADDR'].unique()\n",
    "train_dst_hosts = train_df['IPV4_DST_ADDR'].unique()\n",
    "train_hosts = np.union1d(train_src_hosts, train_dst_hosts)\n",
    "\n",
    "# For each host, count the number of flows\n",
    "print('Number of unique hosts in the train data: ', len(train_hosts))\n",
    "\n",
    "# Find unique hosts (IP addresses) in the train and test data\n",
    "test_src_hosts = test_df['IPV4_SRC_ADDR'].unique()\n",
    "test_dst_hosts = test_df['IPV4_DST_ADDR'].unique()\n",
    "test_hosts = np.union1d(test_src_hosts, test_dst_hosts)\n",
    "\n",
    "# Floor ratio of hosts in test data that are not in train data\n",
    "ratio = math.floor((1.0-len(test_hosts)/len(train_hosts)) * 100)\n",
    "\n",
    "# For each host, count the number of flows\n",
    "print(\"Number of unique hosts in the test data: {} (~{}% smaller)\".format(len(test_hosts), ratio))\n"
   ]
  }
 ],
 "metadata": {
  "kernelspec": {
   "display_name": "machinelearning",
   "language": "python",
   "name": "python3"
  },
  "language_info": {
   "codemirror_mode": {
    "name": "ipython",
    "version": 3
   },
   "file_extension": ".py",
   "mimetype": "text/x-python",
   "name": "python",
   "nbconvert_exporter": "python",
   "pygments_lexer": "ipython3",
   "version": "3.10.10"
  },
  "orig_nbformat": 4
 },
 "nbformat": 4,
 "nbformat_minor": 2
}
